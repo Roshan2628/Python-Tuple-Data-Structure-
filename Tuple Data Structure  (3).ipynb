{
 "cells": [
  {
   "cell_type": "markdown",
   "id": "d9a2a0fd-4179-4f95-b9bd-81e170d3d6fe",
   "metadata": {},
   "source": [
    "## Tuple Data Structure Basic to Advance ##"
   ]
  },
  {
   "cell_type": "markdown",
   "id": "0b33594b-7831-4f79-b698-04bec81e5ec9",
   "metadata": {},
   "source": [
    "## Tuple Data Structure Basic to Advance ##"
   ]
  },
  {
   "cell_type": "markdown",
   "id": "2f3bf7cb-1ff5-4486-ab35-7c9457307861",
   "metadata": {},
   "source": [
    "### 1. Write a Python program to create a tuple \n",
    "Sample Output \n",
    "Tuple = () "
   ]
  },
  {
   "cell_type": "code",
   "execution_count": 1,
   "id": "ef0a5cca-a7db-4cfe-8f46-526c02a4cc47",
   "metadata": {},
   "outputs": [
    {
     "name": "stdout",
     "output_type": "stream",
     "text": [
      "()\n",
      "<class 'tuple'>\n"
     ]
    }
   ],
   "source": [
    "## Ans -\n",
    "a = ()\n",
    "print(a)\n",
    "print(type(a))"
   ]
  },
  {
   "cell_type": "markdown",
   "id": "b8ed3952-e535-4316-9901-d31c9fc10428",
   "metadata": {},
   "source": [
    "### 2. Write a Python program to create a tuple with different data types \n",
    "Sample Output \n",
    "('Tutor Joes', True, 'T', 3.21, 10)"
   ]
  },
  {
   "cell_type": "code",
   "execution_count": 2,
   "id": "ea3d7f83-fcc5-4c6a-9c2c-a2748a8a583c",
   "metadata": {},
   "outputs": [
    {
     "name": "stdout",
     "output_type": "stream",
     "text": [
      "('Tutor Joes', True, 'T', 3.21, 10)\n",
      "<class 'tuple'>\n"
     ]
    }
   ],
   "source": [
    "## Ans - \n",
    "a = ('Tutor Joes', True, 'T', 3.21, 10)\n",
    "print(a)\n",
    "print(type(a))"
   ]
  },
  {
   "cell_type": "code",
   "execution_count": 3,
   "id": "fec0f8d5-259e-4726-bc6f-0014d9ac02ef",
   "metadata": {},
   "outputs": [
    {
     "name": "stdout",
     "output_type": "stream",
     "text": [
      "Tuple output -  ('Tutor Joes', True, 'T', 3.21, 10)\n"
     ]
    }
   ],
   "source": [
    "print ('Tuple output - ',a)"
   ]
  },
  {
   "cell_type": "markdown",
   "id": "19a6da2b-b377-44a8-823f-d8338cac23b3",
   "metadata": {},
   "source": [
    "### 3. Write a Python program to create a tuple with numbers and print one item \n",
    "Sample Output \n",
    "10 \n",
    "Type = tuple"
   ]
  },
  {
   "cell_type": "code",
   "execution_count": 4,
   "id": "f4d215ac-8c9b-47d8-a1a9-c52bf597f8e9",
   "metadata": {},
   "outputs": [
    {
     "name": "stdout",
     "output_type": "stream",
     "text": [
      "(10, 20)\n",
      "<class 'tuple'>\n"
     ]
    }
   ],
   "source": [
    "## Ans -\n",
    "a1 = (10,20)\n",
    "print(a1)\n",
    "print(type(a1))"
   ]
  },
  {
   "cell_type": "markdown",
   "id": "ca8fe2db-adbc-4cf8-8ec2-d9dbbe45d35e",
   "metadata": {},
   "source": [
    "### 4. Write a Python program to unpack a tuple in several variables \n",
    "Sample Output \n",
    "a = 4, 8, 3 \n",
    "(4, 8, 3)"
   ]
  },
  {
   "cell_type": "code",
   "execution_count": 5,
   "id": "2899e8d6-8478-4f4c-9f8a-e65749151d1f",
   "metadata": {},
   "outputs": [
    {
     "name": "stdout",
     "output_type": "stream",
     "text": [
      "(4, 8, 3)\n",
      "<class 'tuple'>\n"
     ]
    }
   ],
   "source": [
    "## Ans -\n",
    "a = (4,8,3)\n",
    "print(a)\n",
    "print(type(a))"
   ]
  },
  {
   "cell_type": "markdown",
   "id": "27e6c97f-f84b-43da-b0ca-9e5712d9d9f1",
   "metadata": {},
   "source": [
    "### 5. Write a Python program to add an item in a tuple \n",
    "Sample Output \n",
    "(10, 40, 50, 70, 90) \n",
    "add items in list = 20 \n",
    "(10, 40, 50, 70, 90, 20) "
   ]
  },
  {
   "cell_type": "code",
   "execution_count": 6,
   "id": "85102fb7-7093-4e2d-94bf-b828c55198a6",
   "metadata": {},
   "outputs": [
    {
     "name": "stdout",
     "output_type": "stream",
     "text": [
      "<class 'tuple'>\n",
      "(10, 40, 50, 70, 90)\n"
     ]
    }
   ],
   "source": [
    "## Ans -\n",
    "a = (10, 40, 50, 70, 90) \n",
    "print(type(a))\n",
    "print(a)"
   ]
  },
  {
   "cell_type": "code",
   "execution_count": 7,
   "id": "e58976ae-8c01-4c71-ac35-c685a8376555",
   "metadata": {},
   "outputs": [
    {
     "name": "stdout",
     "output_type": "stream",
     "text": [
      "add items in list = 20 - (10, 40, 50, 70, 90, 20)\n"
     ]
    }
   ],
   "source": [
    "a1 =list(a) ## Tuple corvet in list \n",
    "a1.append(20) ## using append funcation \n",
    "a2=tuple(a1) ## List conver into tupel\n",
    "print('add items in list = 20 -',a2)"
   ]
  },
  {
   "cell_type": "markdown",
   "id": "6f7b494f-5590-4b30-a834-f1e0c66116ab",
   "metadata": {},
   "source": [
    "#### 6. Write a Python program to convert a tuple to a string \n",
    "Sample Output \n",
    "('T', 'u', 't', 'o', 'r', ' ', 'J', 'o', 'e', 's') \n",
    "Tutor Joes"
   ]
  },
  {
   "cell_type": "code",
   "execution_count": 8,
   "id": "7aa73461-9e04-49a3-b544-64c5091e4990",
   "metadata": {},
   "outputs": [
    {
     "name": "stdout",
     "output_type": "stream",
     "text": [
      "('T', 'u', 't', 'o', 'r', ' ', 'J', 'o', 'e', 's')\n",
      "<class 'tuple'>\n"
     ]
    }
   ],
   "source": [
    "## Ans -\n",
    "x = ('T', 'u', 't', 'o', 'r', ' ', 'J', 'o', 'e', 's') \n",
    "print(x)\n",
    "print(type(x))"
   ]
  },
  {
   "cell_type": "code",
   "execution_count": 9,
   "id": "5aade411-6576-4ea5-9811-19c586529207",
   "metadata": {},
   "outputs": [
    {
     "name": "stdout",
     "output_type": "stream",
     "text": [
      "Tutor Joes\n"
     ]
    }
   ],
   "source": [
    "x1 = ''.join(x) ## Unsing Join Function \n",
    "print(x1)"
   ]
  },
  {
   "cell_type": "markdown",
   "id": "c0af1eea-0894-4b5f-a65e-a27dd5332914",
   "metadata": {},
   "source": [
    "### 7. Write a Python program to get the 4th element and 4th element from last of a tuple \n",
    "Sample Output \n",
    "('w', 3, 'r', 'e', 's', 'o', 'u', 'r', 'c', 'e') \n",
    "-4th Elements From Tuple : e \n",
    "4th Elements From Last Tuple : u"
   ]
  },
  {
   "cell_type": "code",
   "execution_count": 10,
   "id": "988f3be8-b995-4e85-bbcd-362d312839f4",
   "metadata": {},
   "outputs": [
    {
     "name": "stdout",
     "output_type": "stream",
     "text": [
      "('w', 3, 'r', 'e', 's', 'o', 'u', 'r', 'c', 'e')\n",
      "<class 'tuple'>\n"
     ]
    }
   ],
   "source": [
    "## Ans = \n",
    "data = ('w', 3, 'r', 'e', 's', 'o', 'u', 'r', 'c', 'e') \n",
    "print(data)\n",
    "print(type(data))"
   ]
  },
  {
   "cell_type": "code",
   "execution_count": 11,
   "id": "6f96fd2c-1737-40d2-b9bb-7c47d463be9d",
   "metadata": {},
   "outputs": [
    {
     "name": "stdout",
     "output_type": "stream",
     "text": [
      "Fourth_Elements_From_Tuple- e\n",
      "Fourth_Elements_From_last_Tuple- u\n"
     ]
    }
   ],
   "source": [
    "start = data[3]\n",
    "last = data[-4]\n",
    "print ('Fourth_Elements_From_Tuple-' ,start)\n",
    "print ('Fourth_Elements_From_last_Tuple-' ,last)"
   ]
  },
  {
   "cell_type": "markdown",
   "id": "f484d81b-7260-46d1-a625-0a1205853988",
   "metadata": {},
   "source": [
    "### 8. Write a Python program to create the colon of a tuple \n",
    "Sample Output \n",
    "(\"Tutor\", 'J', 23 , 56.67 , [23,12] , True) \n",
    "Copy = ('Tutor', 'J', 23, 56.67, [23, 12], True) "
   ]
  },
  {
   "cell_type": "code",
   "execution_count": 12,
   "id": "99003b46-c7d5-4afe-ab30-6d89cdd3e4bb",
   "metadata": {},
   "outputs": [
    {
     "name": "stdout",
     "output_type": "stream",
     "text": [
      "('Tutor', 'J', 23, 56.67, [23, 12], True)\n",
      "copy - ('Tutor', 'J', 23, 56.67, [23, 12], True)\n"
     ]
    }
   ],
   "source": [
    "### Ans - \n",
    "given_tuple = (\"Tutor\", 'J', 23 , 56.67 , [23,12] , True) \n",
    "print(given_tuple)\n",
    "copy_tuple = given_tuple\n",
    "print('copy -',copy_tuple)"
   ]
  },
  {
   "cell_type": "markdown",
   "id": "5388856a-720c-4d03-9629-fb28af87089f",
   "metadata": {},
   "source": [
    "### 9. Write a Python program to find the repeated items of a tuple \n",
    "Sample Output \n",
    "(2, 34, 45, 6, 7, 2, 4, 5, 78, 34, 2) \n",
    "item = 2 \n",
    "Repeated items of a tuple = 3"
   ]
  },
  {
   "cell_type": "code",
   "execution_count": 13,
   "id": "64cba9f3-019e-41c6-b561-3640c56253cc",
   "metadata": {},
   "outputs": [
    {
     "name": "stdout",
     "output_type": "stream",
     "text": [
      "('T', 'u', 't', 'o', 'r', ' ', 'J', 'o', 'e', 's')\n"
     ]
    }
   ],
   "source": [
    "### Ans - x =(2, 34, 45, 6, 7, 2, 4, 5, 78, 34, 2)\n",
    "print(x)"
   ]
  },
  {
   "cell_type": "code",
   "execution_count": 14,
   "id": "466ccc75-532a-4277-a2a1-7b17e4785986",
   "metadata": {},
   "outputs": [
    {
     "name": "stdout",
     "output_type": "stream",
     "text": [
      "item 2 reapeated - 0\n"
     ]
    }
   ],
   "source": [
    "repeated_item = x.count(2)\n",
    "print('item 2 reapeated -',repeated_item)"
   ]
  },
  {
   "cell_type": "markdown",
   "id": "cf90f74f-cbf1-4753-adef-e0c0c28cb654",
   "metadata": {},
   "source": [
    "### 10. Write a Python program to check whether an element exists within a tuple \n",
    "Sample Output \n",
    "('T', 'u', 't', 'o', 'r', ' ', 'J', 'o', 'e', 's',8) \n",
    "8 in Tuple = True \n",
    "'x' in Tuple = False"
   ]
  },
  {
   "cell_type": "code",
   "execution_count": 15,
   "id": "8e0e1bc1-947a-4847-9311-26d968513ea8",
   "metadata": {},
   "outputs": [
    {
     "name": "stdout",
     "output_type": "stream",
     "text": [
      "('T', 'u', 't', 'o', 'r', ' ', 'J', 'o', 'e', 's', 8)\n",
      "<class 'tuple'>\n"
     ]
    }
   ],
   "source": [
    "### Ans -\n",
    "s = ('T', 'u', 't', 'o', 'r', ' ', 'J', 'o', 'e', 's',8)\n",
    "print(s)\n",
    "print(type(s))"
   ]
  },
  {
   "cell_type": "code",
   "execution_count": 16,
   "id": "ab9fe0af-b5ab-4159-983b-54aeca5c5472",
   "metadata": {},
   "outputs": [
    {
     "name": "stdout",
     "output_type": "stream",
     "text": [
      "True\n",
      "False\n"
     ]
    }
   ],
   "source": [
    "## Using Membership operator - \n",
    "print ( 8 in s )\n",
    "print ( x in s )"
   ]
  },
  {
   "cell_type": "markdown",
   "id": "dcb8989f-4d40-4038-9ea4-409653b1de04",
   "metadata": {},
   "source": [
    "### 11. Write a Python program to convert a list to a tuple \n",
    "Sample Output \n",
    "[12, 45, 87, 54, 89, 4] \n",
    "(12, 45, 87, 54, 89, 4) "
   ]
  },
  {
   "cell_type": "code",
   "execution_count": 17,
   "id": "c6be4cec-c78f-432f-aa86-d069995dff60",
   "metadata": {},
   "outputs": [
    {
     "name": "stdout",
     "output_type": "stream",
     "text": [
      "Original List: [12, 45, 87, 54, 89, 4]\n",
      "Converted Tuple: (12, 45, 87, 54, 89, 4)\n"
     ]
    }
   ],
   "source": [
    "### Ans -\n",
    "my_list = [12, 45, 87, 54, 89, 4]\n",
    "\n",
    "print(\"Original List:\", my_list)\n",
    "\n",
    "my_tuple = tuple(my_list)\n",
    "\n",
    "print(\"Converted Tuple:\", my_tuple)"
   ]
  },
  {
   "cell_type": "markdown",
   "id": "87574d53-f0a5-45cf-b640-61caf917e0fe",
   "metadata": {},
   "source": [
    "### 12. Write a Python program to remove an item from a tuple \n",
    "Sample Output \n",
    "(23, 45, 56, 68, 10, 45, 7, 9) \n",
    "Remove = 56 \n",
    "(23, 45, 68, 10, 45, 7, 9)"
   ]
  },
  {
   "cell_type": "code",
   "execution_count": 18,
   "id": "c0755989-0b2e-4018-9248-6d6c221353e1",
   "metadata": {},
   "outputs": [
    {
     "name": "stdout",
     "output_type": "stream",
     "text": [
      "Original Tuple: (23, 45, 56, 68, 10, 45, 7, 9)\n",
      "Remove: 56\n",
      "Tuple after removal: (23, 45, 68, 10, 45, 7, 9)\n"
     ]
    }
   ],
   "source": [
    "my_tuple = (23, 45, 56, 68, 10, 45, 7, 9)\n",
    "\n",
    "print(\"Original Tuple:\", my_tuple)\n",
    "\n",
    "# Item to remove\n",
    "remove_item = 56\n",
    "print(\"Remove:\", remove_item)\n",
    "\n",
    "new_tuple = tuple(item for item in my_tuple if item != remove_item)\n",
    "\n",
    "print(\"Tuple after removal:\", new_tuple)\n"
   ]
  },
  {
   "cell_type": "markdown",
   "id": "a8e5f38b-1de8-427d-8e08-c5f6e8e72f66",
   "metadata": {},
   "source": [
    "### 13. Write a Python program to slice a tuple \n",
    "Sample Output \n",
    "(10, 20, 30, 40, 50, 60, 70, 80, 90, 100) \n",
    "(40, 50, 60, 70, 80)"
   ]
  },
  {
   "cell_type": "code",
   "execution_count": 19,
   "id": "2cc6c72a-33ce-4fc1-819c-de7d35d536a6",
   "metadata": {},
   "outputs": [
    {
     "name": "stdout",
     "output_type": "stream",
     "text": [
      "(10, 20, 30, 40, 50, 60, 70, 80, 90, 100)\n"
     ]
    }
   ],
   "source": [
    "## Ans - \n",
    "s = (10, 20, 30, 40, 50, 60, 70, 80, 90, 100) \n",
    "print(s)"
   ]
  },
  {
   "cell_type": "code",
   "execution_count": 20,
   "id": "bfc9c185-9172-4bf0-bf30-9fafa5d483a8",
   "metadata": {},
   "outputs": [
    {
     "name": "stdout",
     "output_type": "stream",
     "text": [
      "(40, 50, 60, 70)\n"
     ]
    }
   ],
   "source": [
    "output = s[3:7]\n",
    "print(output)"
   ]
  },
  {
   "cell_type": "markdown",
   "id": "916b43bc-7c2b-4992-8002-d9acbd4b4164",
   "metadata": {},
   "source": [
    "### 14. Write a Python program to find the index of an item of a tuple \n",
    "Sample Output \n",
    " \n",
    "(23, 45, 67, 78, 89, 90, 34, 56) \n",
    "Item = 78 \n",
    "Index Number : 3"
   ]
  },
  {
   "cell_type": "code",
   "execution_count": 21,
   "id": "44113188-b366-49b1-a197-7fb082d11fb3",
   "metadata": {},
   "outputs": [
    {
     "name": "stdout",
     "output_type": "stream",
     "text": [
      "(10, 20, 30, 40, 50, 60, 70, 80, 90, 100)\n"
     ]
    }
   ],
   "source": [
    "## Ans - s = (23, 45, 67, 78, 89, 90, 34, 56) \n",
    "print(s)"
   ]
  },
  {
   "cell_type": "code",
   "execution_count": 22,
   "id": "cf4cfd1f-5b1d-4498-9557-c562f501f9d2",
   "metadata": {},
   "outputs": [
    {
     "name": "stdout",
     "output_type": "stream",
     "text": [
      "Index Number 3 -  40\n"
     ]
    }
   ],
   "source": [
    "index_number = s[3]\n",
    "print('Index Number 3 - ' , index_number)"
   ]
  },
  {
   "cell_type": "markdown",
   "id": "8389f3ae-94d0-4e3a-9e8e-3d2d79d72bf9",
   "metadata": {},
   "source": [
    "### 15. Write a Python program to find the length of a tuple \n",
    "Sample Output \n",
    "(\"Lion\", \"Cat\", \"Dog\", \"Panda\", \"Tiger\", \"Fox\") \n",
    "Length : 6"
   ]
  },
  {
   "cell_type": "code",
   "execution_count": 23,
   "id": "a7b7b38c-335b-4de3-acd6-d6f2e3454381",
   "metadata": {},
   "outputs": [
    {
     "name": "stdout",
     "output_type": "stream",
     "text": [
      "6\n"
     ]
    }
   ],
   "source": [
    "## Ans - \n",
    "animals = (\"Lion\", \"Cat\", \"Dog\", \"Panda\", \"Tiger\", \"Fox\") \n",
    "lenght = len(animals)\n",
    "print(lenght)"
   ]
  },
  {
   "cell_type": "markdown",
   "id": "1015c6ac-b4f6-41c8-a775-5c6a5430258b",
   "metadata": {},
   "source": [
    "### 16. Write a Python program to convert a tuple to a dictionary \n",
    "Sample Output \n",
    "( (\"Name\", \"Ram\"), (\"Age\", 23), (\"City\", \"Salem\"), (\"Mark\", 422) ) \n",
    "{ 'Name': 'Ram', 'Age': 23, 'City': 'Salem', 'Mark': 422 } "
   ]
  },
  {
   "cell_type": "code",
   "execution_count": 24,
   "id": "bc88c546-7cf8-407b-9489-70fe806f47f4",
   "metadata": {},
   "outputs": [
    {
     "name": "stdout",
     "output_type": "stream",
     "text": [
      "Original Tuple: (('Name', 'Ram'), ('Age', 23), ('City', 'Salem'), ('Mark', 422))\n",
      "Converted Dictionary: {'Name': 'Ram', 'Age': 23, 'City': 'Salem', 'Mark': 422}\n"
     ]
    }
   ],
   "source": [
    "given_data = ((\"Name\", \"Ram\"), (\"Age\", 23), (\"City\", \"Salem\"), (\"Mark\", 422))\n",
    "\n",
    "print(\"Original Tuple:\", given_data)\n",
    "\n",
    "required_data = dict(given_data)\n",
    "\n",
    "print(\"Converted Dictionary:\", required_data)"
   ]
  },
  {
   "cell_type": "markdown",
   "id": "382c860c-027d-49a9-ad18-56707f128c77",
   "metadata": {},
   "source": [
    "### 17. Write a Python program to unzip a list of tuples into individual lists \n",
    "Sample Output \n",
    "[ (10,30), (60,90), (20,50) ] \n",
    "[ (10, 60, 20), (30, 90, 50) ]"
   ]
  },
  {
   "cell_type": "code",
   "execution_count": 25,
   "id": "9e6e83e0-abc7-481d-88a2-4a6e964dc924",
   "metadata": {},
   "outputs": [
    {
     "name": "stdout",
     "output_type": "stream",
     "text": [
      "[(10, 30), (60, 90), (20, 50)]\n"
     ]
    }
   ],
   "source": [
    "## Ans - \n",
    "my_tuples = [(10, 30), (60, 90), (20, 50)]\n",
    "print(my_tuples)"
   ]
  },
  {
   "cell_type": "code",
   "execution_count": 26,
   "id": "7927af0a-66db-4e87-9150-a7538250a04b",
   "metadata": {},
   "outputs": [],
   "source": [
    "l1=[]"
   ]
  },
  {
   "cell_type": "code",
   "execution_count": 27,
   "id": "cea29fe6-6d4b-47c8-8f29-081d883fffdd",
   "metadata": {},
   "outputs": [],
   "source": [
    "l2=[]"
   ]
  },
  {
   "cell_type": "code",
   "execution_count": 28,
   "id": "33592818-fec1-4e0e-9fa0-969237737b46",
   "metadata": {},
   "outputs": [
    {
     "name": "stdout",
     "output_type": "stream",
     "text": [
      "Unzipped Lists: [[10], [30]]\n",
      "Unzipped Lists: [[10, 60], [30, 90]]\n",
      "Unzipped Lists: [[10, 60, 20], [30, 90, 50]]\n"
     ]
    }
   ],
   "source": [
    "for tuple in my_tuples:\n",
    "    l1.append(tuple[0])  \n",
    "    l2.append(tuple[1])\n",
    "    unzipped_lists = [l1, l2]\n",
    "    print(\"Unzipped Lists:\", unzipped_lists)\n"
   ]
  },
  {
   "cell_type": "markdown",
   "id": "55b31296-59b8-4f86-bfc8-e44a2a3ef07d",
   "metadata": {},
   "source": [
    "### 18. Write a Python program to reverse a tuple \n",
    "Sample Output \n",
    "Before Reverse : ( 23, 45, 67, 78, 89, 90, 34, 56 ) \n",
    "After Reverse : ( 56, 34, 90, 89, 78, 67, 45, 23 )"
   ]
  },
  {
   "cell_type": "code",
   "execution_count": 29,
   "id": "a304d4c5-dad4-4cbe-b5b8-7d9a9ec78269",
   "metadata": {},
   "outputs": [
    {
     "name": "stdout",
     "output_type": "stream",
     "text": [
      "(23, 45, 67, 78, 89, 90, 34, 56)\n"
     ]
    }
   ],
   "source": [
    "## Ans - \n",
    "before = ( 23, 45, 67, 78, 89, 90, 34, 56 )\n",
    "print(before)"
   ]
  },
  {
   "cell_type": "code",
   "execution_count": 30,
   "id": "448cd45d-de6e-480f-a5a8-1793d59159b4",
   "metadata": {},
   "outputs": [
    {
     "name": "stdout",
     "output_type": "stream",
     "text": [
      "After Reverse -  (56, 34, 90, 89, 78, 67, 45, 23)\n"
     ]
    }
   ],
   "source": [
    "after = before[::-1]\n",
    "print(\"After Reverse - \",after)"
   ]
  },
  {
   "cell_type": "code",
   "execution_count": null,
   "id": "bbc05940-b9f5-4ff6-acbe-315e3bb9979c",
   "metadata": {},
   "outputs": [],
   "source": [
    "### 19. Write a Python program to convert a list of tuples into a dictionary \n",
    "Sample Output \n",
    "[ (\"Name\", \"Ram\"), (\"Name\", \"Pooja\"), (\"Age\", 21), (\"Gender\", \"Male\"), (\"Age\", 23), (\"Gender\", \n",
    "\"Female\") ] \n",
    "{ 'Name' : ['Ram', 'Pooja'], 'Age' : [21, 23], 'Gender' : ['Male', 'Female'] }"
   ]
  },
  {
   "cell_type": "code",
   "execution_count": null,
   "id": "b7d071da-adce-4039-a6d9-16ad719a4c5b",
   "metadata": {},
   "outputs": [],
   "source": [
    "## Ans -\n",
    "data_tuples = [ (\"Name\", \"Ram\"), (\"Name\", \"Pooja\"), (\"Age\", 21), (\"Gender\", \"Male\"), (\"Age\", 23), (\"Gender\", \"Female\") ] \n",
    "   \n",
    "\n",
    "result_dict = {}\n",
    "\n",
    "for key, value in data_tuples:\n",
    "    if key not in result_dict:\n",
    "        result_dict[key] = []\n",
    "    result_dict[key].append(value)\n",
    "\n",
    "print(\"Converted Dictionary:\", result_dict)\n"
   ]
  },
  {
   "cell_type": "markdown",
   "id": "41b48a1d-b6c3-4141-be3f-c3609d2f8029",
   "metadata": {},
   "source": [
    "### 20. Write a Python program to print a tuple with string formatting \n",
    "Sample Output \n",
    "(\"watermelons\", \"strawberries\", \"mangoes\", \"bananas\", \"grapefruits\", \"oranges\", \"apples\", \n",
    "\"pears\") \n",
    "Fruits ('watermelons', 'strawberries', 'mangoes', 'bananas', 'grapefruits', 'oranges', 'apples', \n",
    "'pears')"
   ]
  },
  {
   "cell_type": "code",
   "execution_count": null,
   "id": "97407c25-db93-4b70-a71a-198a1487108c",
   "metadata": {},
   "outputs": [],
   "source": [
    "## Ans -\n",
    "fruits = (\"watermelons\", \"strawberries\", \"mangoes\", \"bananas\", \"grapefruits\", \"oranges\", \"apples\", \"pears\")\n",
    "print(fruits)"
   ]
  },
  {
   "cell_type": "code",
   "execution_count": null,
   "id": "e403b92b-2e03-4f02-ac7e-b1f3bf96c643",
   "metadata": {},
   "outputs": [],
   "source": [
    "print(f\"Fruits {fruits}\")"
   ]
  },
  {
   "cell_type": "code",
   "execution_count": null,
   "id": "9e6f4a31-f52e-4e81-a909-99b5988f4557",
   "metadata": {},
   "outputs": [],
   "source": [
    "print(\"Fruits {}\".format(fruits))"
   ]
  },
  {
   "cell_type": "markdown",
   "id": "524e6492-b983-4153-9fb7-1026461fef9c",
   "metadata": {},
   "source": [
    "### 21. Create a tuple with single item 23 \n",
    "Sample Output \n",
    "Create a tuple with Item = 23 \n",
    "Type = tuple"
   ]
  },
  {
   "cell_type": "code",
   "execution_count": null,
   "id": "5314409c-6540-4b61-a086-cc3e0b6c1c05",
   "metadata": {},
   "outputs": [],
   "source": [
    "## Ans -\n",
    "a = (23 , )\n",
    "print(a)\n",
    "print(type(a))"
   ]
  },
  {
   "cell_type": "markdown",
   "id": "38dac2ee-b756-4819-a5a2-2c9c1ac73166",
   "metadata": {},
   "source": [
    "### 22. Unpack the tuple into 5 variables \n",
    "Sample Output \n",
    "Tuple = (11, 22, 333, 44, 55) \n",
    "11 \n",
    "22 \n",
    "33 \n",
    " \n",
    "44 \n",
    "55"
   ]
  },
  {
   "cell_type": "code",
   "execution_count": null,
   "id": "4b54978c-71df-4a70-b25f-b1277e2fabc2",
   "metadata": {},
   "outputs": [],
   "source": [
    "## Ans -\n",
    "variables = ( 11,22,33,44,55)\n",
    "print(variables)"
   ]
  },
  {
   "cell_type": "code",
   "execution_count": null,
   "id": "33676bfc-3e86-46ff-9777-480fdd18ccbe",
   "metadata": {},
   "outputs": [],
   "source": [
    "a,b,c,d,e = variables\n",
    "print('tuple variables - ',a)\n",
    "print('tuple variables - ',b)\n",
    "print('tuple variables - ',c)\n",
    "print('tuple variables - ',d)\n",
    "print('tuple variables - ',e)"
   ]
  },
  {
   "cell_type": "markdown",
   "id": "da143d6d-7723-441f-99fd-1200e3306b54",
   "metadata": {},
   "source": [
    "### 23. Swap two tuples in Python \n",
    "Sample Output \n",
    "Before Swap A : 10 \n",
    "Before Swap B : 20 \n",
    "After Swap A : 20 \n",
    "After Swap B : 10"
   ]
  },
  {
   "cell_type": "code",
   "execution_count": null,
   "id": "a6f1827c-97ea-470c-9a07-0522173ef574",
   "metadata": {},
   "outputs": [],
   "source": [
    "### Ans  -\n",
    "# Define two tuples\n",
    "before_a = (10,)\n",
    "before_b = (20,)\n",
    "print(\"Before Swap A :\", before_a[0])\n",
    "print(\"Before Swap B :\", before_b[0])"
   ]
  },
  {
   "cell_type": "code",
   "execution_count": null,
   "id": "c0f837b1-5697-47d5-99b0-23ce024f4b61",
   "metadata": {},
   "outputs": [],
   "source": [
    "before_a, before_b = before_b, before_a"
   ]
  },
  {
   "cell_type": "code",
   "execution_count": null,
   "id": "e4f823e3-daad-42e5-850f-c3589b02b341",
   "metadata": {},
   "outputs": [],
   "source": [
    "print(\"After Swap A :\", before_a[0])\n",
    "print(\"After Swap B :\", before_b[0])\n"
   ]
  },
  {
   "cell_type": "markdown",
   "id": "3c744d14-f287-4eb5-b509-5b6f0927440c",
   "metadata": {},
   "source": [
    "### 24. Copy specific elements from one tuple to a new tuple \n",
    "Sample Output \n",
    "(10, 20, 30, 40, 50, 60, 70, 80, 90, 100) \n",
    "(30, 40, 50, 60, 70, 80)"
   ]
  },
  {
   "cell_type": "code",
   "execution_count": null,
   "id": "700829eb-2253-499f-9600-28ae3c1182d1",
   "metadata": {},
   "outputs": [],
   "source": [
    "## Ans - \n",
    "tuple = (10, 20, 30, 40, 50, 60, 70, 80, 90, 100) \n",
    "print(tuple)"
   ]
  },
  {
   "cell_type": "code",
   "execution_count": null,
   "id": "d851fe4b-0952-4027-809d-af7606fba9b6",
   "metadata": {},
   "outputs": [],
   "source": [
    "tuple2 = tuple[2:7]\n",
    "print( 'New Tuple -',tuple2)"
   ]
  },
  {
   "cell_type": "markdown",
   "id": "fdf659f4-2506-41dc-a8d9-8063f8c27bdb",
   "metadata": {},
   "source": [
    "### 25. Modify the tuple \n",
    "Sample Output \n",
    "( 10, 20, 30, 40, 50 ) \n",
    "( 10, 20, 33, 40, 50 ) "
   ]
  },
  {
   "cell_type": "code",
   "execution_count": null,
   "id": "ba630184-a036-484e-aba9-53b66e8f1c97",
   "metadata": {},
   "outputs": [],
   "source": [
    "## Ans - \n",
    "given = ( 10, 20, 30, 40, 50 ) \n",
    "print(given)\n",
    "temp_tup = list(given)\n",
    "temp_tup[2]=33\n",
    "modify_tuple = tuple(temp_tup)\n",
    "print(modify_tuple)"
   ]
  },
  {
   "cell_type": "markdown",
   "id": "ec2425f6-b5c2-44eb-aea3-4c79d4becc1e",
   "metadata": {},
   "source": [
    "### 26. Sort a tuple of tuples by 2nd item \n",
    "Sample Output \n",
    "( ('a', 53), ('b', 37), ('c', 23), ('d', 1), ('e', 18) ) \n",
    "( ('d', 1), ('e', 18), ('c', 23), ('b', 37), ('a', 53) ) \n"
   ]
  },
  {
   "cell_type": "code",
   "execution_count": null,
   "id": "bca9cc1a-9ae0-40ce-b90d-4168b5ff1372",
   "metadata": {},
   "outputs": [],
   "source": [
    "## Ans -\n",
    "original_tuple = (('a', 53), ('b', 37), ('c', 23), ('d', 1), ('e', 18))\n",
    "\n",
    "def get_second_item(item):\n",
    "    return item[1]\n",
    "\n",
    "sorted_tuple = sorted(original_tuple, key=get_second_item)\n",
    "\n",
    "print(\"Original Tuple:\", original_tuple)\n",
    "print(\"Sorted Tuple by 2nd item:\", sorted_tuple)\n"
   ]
  },
  {
   "cell_type": "markdown",
   "id": "db75bc3e-3367-4ea2-b940-31b82d899b55",
   "metadata": {},
   "source": [
    "### 27. Counts the number of occurrences of item 30 from a tuple \n",
    "Sample Output \n",
    "(30, 50, 10, 30, 70, 50, 30) \n",
    "Number of Counts 30 : 3"
   ]
  },
  {
   "cell_type": "code",
   "execution_count": null,
   "id": "eb1238fb-f522-48a0-a225-e30708af3764",
   "metadata": {},
   "outputs": [],
   "source": [
    "## Ans - \n",
    "a = (30, 50, 10, 30, 70, 50, 30) \n",
    "print(a)\n",
    "a1 = a.count(30)\n",
    "print('Number of Counts 30 - ' , a1)"
   ]
  },
  {
   "cell_type": "markdown",
   "id": "8cdf1b85-94a0-49d4-b74a-e266e6c20494",
   "metadata": {},
   "source": [
    "### 28. Write a Python program to compute element-wise sum of given tuples \n",
    "Sample Output \n",
    "A = (2, 5, 8) \n",
    "B = (6, 5, 1) \n",
    "C = (1, 4, 7) \n",
    "D = (3, 7, 2) \n",
    "Sum of Elements = (12, 21, 18)"
   ]
  },
  {
   "cell_type": "code",
   "execution_count": null,
   "id": "78d35a9e-22a5-47b2-9ea5-d89a7e8e982b",
   "metadata": {},
   "outputs": [],
   "source": [
    "## Ans - \n",
    "A = (2, 5, 8) \n",
    "B = (6, 5, 1) \n",
    "C = (1, 4, 7) \n",
    "D = (3, 7, 2) "
   ]
  },
  {
   "cell_type": "code",
   "execution_count": null,
   "id": "bb4b7b68-7ebf-4368-b0b6-0ae7e58eda56",
   "metadata": {},
   "outputs": [],
   "source": [
    "sum_of_elements = tuple(sum(elements) for elements in zip(A, B, C, D))"
   ]
  },
  {
   "cell_type": "code",
   "execution_count": null,
   "id": "05e0c1bb-4550-4744-abe5-05f20b79485d",
   "metadata": {},
   "outputs": [],
   "source": [
    "print(\"A =\", A)\n",
    "print(\"B =\", B)\n",
    "print(\"C =\", C)\n",
    "print(\"D =\", D)\n",
    "print(\"Sum of Elements =\", sum_of_elements)"
   ]
  },
  {
   "cell_type": "markdown",
   "id": "e6270a52-4458-4ab0-b4d5-566a59bbf7a2",
   "metadata": {},
   "source": [
    "### 29. Write a Python program to sort a tuple by its float element \n",
    "Sample Output \n",
    "[ ('Ram', '89.20'), ('Siva', '76.45'), ('Pooja', '84.40'), ('Tara', '68.43'), ('Jeeva', '91.40') ] \n",
    "[ ('Jeeva', '91.40'), ('Ram', '89.20'), ('Pooja', '84.40'), ('Siva', '76.45'), ('Tara', '68.43') ]"
   ]
  },
  {
   "cell_type": "code",
   "execution_count": null,
   "id": "80c33a3e-d359-4260-99c2-ff2e30a429a2",
   "metadata": {},
   "outputs": [],
   "source": [
    "## Ans - \n",
    "data = [ ('Ram', '89.20'), ('Siva', '76.45'), ('Pooja', '84.40'), ('Tara', '68.43'), ('Jeeva', '91.40') ] \n",
    "print(data)"
   ]
  },
  {
   "cell_type": "code",
   "execution_count": null,
   "id": "02ac01f5-9edb-42f4-a524-a237dd50c557",
   "metadata": {},
   "outputs": [],
   "source": [
    "sorted_data = sorted(data)\n",
    "print(sorted_data)"
   ]
  },
  {
   "cell_type": "markdown",
   "id": "c27da976-b477-4f9d-8d5e-425e52783f7a",
   "metadata": {},
   "source": [
    "### 30. Write a Python program to replace last value of tuples in a list \n",
    "Sample Output \n",
    "[(5, 2, 3), (4, 7, 6), (8, 9, 6)] \n",
    "Replace value = 10 \n",
    "[(5, 2, 10),(4, 7, 10),(8, 9, 10)]   "
   ]
  },
  {
   "cell_type": "code",
   "execution_count": null,
   "id": "1619ddca-1122-428f-8ac6-bb8e1c3bde6e",
   "metadata": {},
   "outputs": [],
   "source": [
    "## Ans - \n",
    "data = [(5, 2, 3), (4, 7, 6), (8, 9, 6)]\n",
    "print(data)"
   ]
  },
  {
   "cell_type": "code",
   "execution_count": null,
   "id": "8734e4e7-2d0c-4b8d-bbb9-e12fee8d36fe",
   "metadata": {},
   "outputs": [],
   "source": [
    "replace_value = 10"
   ]
  },
  {
   "cell_type": "code",
   "execution_count": null,
   "id": "542d1845-84a6-49ed-b2b9-81a71af216df",
   "metadata": {},
   "outputs": [],
   "source": [
    "final_data = [t[:-1] + (replace_value,) for t in data]\n",
    "print(final_data)"
   ]
  },
  {
   "cell_type": "markdown",
   "id": "c3e3e4ca-24d3-4ffe-9957-1dcad6dc4bda",
   "metadata": {},
   "source": [
    "### 31. Write a Python program to Extract tuples having K digit elements \n",
    "Sample Output \n",
    "[ (47, 23), (3, 78), (22, 53), (121, 45), (7,) ] \n",
    "K = 2 \n",
    "[ (47, 23), (22, 53) ]"
   ]
  },
  {
   "cell_type": "code",
   "execution_count": null,
   "id": "c2ac4d96-eddb-4190-a26f-f8ab5d0ca739",
   "metadata": {},
   "outputs": [],
   "source": [
    "## Ans - \n",
    "data = [ (47, 23), (3, 78), (22, 53), (121, 45), (7,) ] \n",
    "print(data)"
   ]
  },
  {
   "cell_type": "code",
   "execution_count": null,
   "id": "b7c20235-c1c8-46f7-970b-12c3361f0ea8",
   "metadata": {},
   "outputs": [],
   "source": [
    "K = 2"
   ]
  },
  {
   "cell_type": "code",
   "execution_count": null,
   "id": "b1dfcc90-6750-4024-93b7-b1a07ee9d998",
   "metadata": {},
   "outputs": [],
   "source": [
    "result = [t for t in data if all(len(str(x)) == K for x in t)]"
   ]
  },
  {
   "cell_type": "code",
   "execution_count": null,
   "id": "ff576ffc-2533-4834-b047-c8546f51e322",
   "metadata": {},
   "outputs": [],
   "source": [
    "print(\"Original Data:\", data)\n",
    "print(f\"Tuples with {K}-digit elements:\", result)"
   ]
  },
  {
   "cell_type": "markdown",
   "id": "27158bb8-9549-4f37-a605-13263902ee86",
   "metadata": {},
   "source": [
    "### 32. Write a Python program to Extract Symmetric Tuples \n",
    "Sample Output \n",
    "[ (18, 23), (2, 9), (7, 6), (9, 2), (10, 2), (23, 18) ] \n",
    "{ (2, 9), (18, 23) }"
   ]
  },
  {
   "cell_type": "code",
   "execution_count": null,
   "id": "e8a8a8eb-dd4d-4084-9f70-16442c6f0f40",
   "metadata": {},
   "outputs": [],
   "source": [
    "## Ans -\n",
    "data = [ (18, 23), (2, 9), (7, 6), (9, 2), (10, 2), (23, 18) ] \n",
    "print(data)"
   ]
  },
  {
   "cell_type": "code",
   "execution_count": null,
   "id": "ff9d71c4-1e98-452e-9e4e-5649ac01486e",
   "metadata": {},
   "outputs": [],
   "source": [
    "symmetric_tuples = set()"
   ]
  },
  {
   "cell_type": "code",
   "execution_count": null,
   "id": "610ff5dc-6a7f-415d-b0cc-25478923783c",
   "metadata": {},
   "outputs": [],
   "source": [
    "for t in data:\n",
    "    if (t[1], t[0]) in data:\n",
    "        symmetric_tuples.add(tuple(sorted(t)))\n",
    "\n",
    "print(\"Main Data:\", data)\n",
    "print(\"Symmetric Tuples:\", symmetric_tuples)"
   ]
  },
  {
   "cell_type": "markdown",
   "id": "a5f6542d-7278-4d72-a17d-28dd7585195c",
   "metadata": {},
   "source": [
    "### 33. Write a Python program to Sort Tuples by their Maximum element \n",
    "Sample Output \n",
    "[ (4, 5, 5, 7), (1, 3, 7, 4), (19, 4, 5, 3), (1, 2) ] \n",
    "[ (19, 4, 5, 3), (4, 5, 5, 7), (1, 3, 7, 4), (1, 2) ] "
   ]
  },
  {
   "cell_type": "code",
   "execution_count": null,
   "id": "9aebf71e-966f-4655-b617-88a4a39eb1b6",
   "metadata": {},
   "outputs": [],
   "source": [
    "data = [ (4, 5, 5, 7), (1, 3, 7, 4), (19, 4, 5, 3), (1, 2) ] \n",
    "print(data)"
   ]
  },
  {
   "cell_type": "code",
   "execution_count": null,
   "id": "bd10fa1d-3a0d-4ad5-bc9b-e8590c33a68f",
   "metadata": {},
   "outputs": [],
   "source": [
    "sorted_tuples = sorted(data, key=max ,reverse=True)"
   ]
  },
  {
   "cell_type": "code",
   "execution_count": null,
   "id": "3c90abed-4fd3-4551-abb4-7e4f3a7480a8",
   "metadata": {},
   "outputs": [],
   "source": [
    "print(\"Sorte Maximum Element:\", sorted_tuples)"
   ]
  },
  {
   "cell_type": "markdown",
   "id": "1f16ce3e-cf77-43b3-ac9c-96a7057fb064",
   "metadata": {},
   "source": [
    "### 34. Write a Python program to Remove nested records from tuple \n",
    "Sample Output \n",
    "(10, 20, (30,), 40, (50, 60), 70) \n",
    "Removal of Nested Tuple : (10, 20, 40, 70)"
   ]
  },
  {
   "cell_type": "code",
   "execution_count": null,
   "id": "8c6575d8-9922-4909-8bfb-941824dbaa1f",
   "metadata": {},
   "outputs": [],
   "source": [
    "data = (10, 20, (30,), 40, (50, 60), 70) \n",
    "print(data)"
   ]
  },
  {
   "cell_type": "code",
   "execution_count": null,
   "id": "44e6ca12-241c-4532-8187-7bcf107e49d4",
   "metadata": {},
   "outputs": [],
   "source": [
    "filtered_tuple = tuple(item for item in data if not isinstance(item, tuple))\n"
   ]
  },
  {
   "cell_type": "code",
   "execution_count": null,
   "id": "b23979f4-74f8-49dc-98a0-c0513b839954",
   "metadata": {},
   "outputs": [],
   "source": [
    "print(\"Removal of Nested record Tuples:\", filtered_tuple)\n"
   ]
  },
  {
   "cell_type": "markdown",
   "id": "398adf4d-e8bd-44d6-beed-472f99b35a51",
   "metadata": {},
   "source": [
    "### 35. Write a Python program to Elements Frequency in Mixed Nested Tuple \n",
    " \n",
    "Sample Output \n",
    "(10, 20, (20, 10), 30, (40, 50, 60), 60, 70) \n",
    "Elements Frequency : {10: 2, 20: 2, 30: 1, 40: 1, 50: 1, 60: 2, 70: 1}"
   ]
  },
  {
   "cell_type": "code",
   "execution_count": null,
   "id": "fd762d71-cd5b-4616-94f2-b66fde7c2025",
   "metadata": {},
   "outputs": [],
   "source": [
    "data = (10, 20, (20, 10), 30, (40, 50, 60), 60, 70) \n",
    "print(data)"
   ]
  },
  {
   "cell_type": "markdown",
   "id": "5470719b-aff4-4897-891a-ff8fb0b918d8",
   "metadata": {},
   "source": [
    "### 36. Write a Python program to get unique elements in nested tuple \n",
    "Sample Output \n",
    "[ (1, 3, 5), (4, 5, 7), (1, 2, 6), (10, 9), (10,) ] \n",
    "Unique Element in Nested Tuples : [1, 3, 5, 4, 7, 2, 6, 10, 9]"
   ]
  },
  {
   "cell_type": "code",
   "execution_count": null,
   "id": "bb5041c9-6175-4113-8b77-6d4992919dc9",
   "metadata": {},
   "outputs": [],
   "source": [
    "nested_tuple = [ (1, 3, 5), (4, 5, 7), (1, 2, 6), (10, 9), (10,) ]\n",
    "\n",
    "def get_unique_elements(nested_tuples):\n",
    "    unique_elements = set()\n",
    "    for tup in nested_tuples:\n",
    "        unique_elements.update(tup) \n",
    "    return sorted(unique_elements)  \n",
    "\n",
    "unique_elements = get_unique_elements(nested_tuple)\n",
    "\n",
    "print(\"Unique Element in Nested Tuples:\", unique_elements)"
   ]
  },
  {
   "cell_type": "markdown",
   "id": "99e9eb96-57d6-4d49-9364-6467e52625a2",
   "metadata": {},
   "source": [
    "### 37. Write a Python program to Concatenate tuples to nested tuples \n",
    "Sample Output \n",
    "Tuple 1 : ((18, 23, 2, 9),) \n",
    "Tuple 2 : ((10, 3, 11),) \n",
    "Tuples after Concatenating : ((18, 23, 2, 9), (10, 3, 11))"
   ]
  },
  {
   "cell_type": "code",
   "execution_count": null,
   "id": "7471b692-949b-4e9c-808e-6835210ef0e5",
   "metadata": {},
   "outputs": [],
   "source": [
    "##  Ans - \n",
    "tuple_1 = ((18, 23, 2, 9),) \n",
    "tuple_2 = ((10, 3, 11),)\n",
    "concatenated_tuple = tuple_1 + tuple_2\n",
    "print(concatenated_tuple)"
   ]
  },
  {
   "cell_type": "markdown",
   "id": "b075352d-dfbd-4a07-a94e-32911909eb4e",
   "metadata": {},
   "source": [
    "## 38. Write a Python program to Sort by Frequency of second element in Tuple List \n",
    "Sample Output \n",
    "[ (2, 7), (3, 7), (2, 5), (8, 7), (6, 5), (9, 8) ] \n",
    "Sorted List of tuples : [ (2, 7), (3, 7), (8, 7), (2, 5), (6, 5), (9, 8) ]"
   ]
  },
  {
   "cell_type": "code",
   "execution_count": null,
   "id": "0c41edd0-e00c-484a-9bd0-a6b234cfce36",
   "metadata": {},
   "outputs": [],
   "source": [
    "data = [ (2, 7), (3, 7), (2, 5), (8, 7), (6, 5), (9, 8) ] \n",
    "print(data)"
   ]
  },
  {
   "cell_type": "code",
   "execution_count": null,
   "id": "910da9fb-04a5-413a-b947-4b5b0e08f63b",
   "metadata": {},
   "outputs": [],
   "source": [
    "from collections import Counter\n",
    "\n",
    "tuple_list = [(2, 7), (3, 7), (2, 5), (8, 7), (6, 5), (9, 8)]\n",
    "\n",
    "frequency = Counter(second for _, second in tuple_list)\n",
    "\n",
    "sorted_list = sorted(tuple_list, key=lambda x: frequency[x[1]])\n",
    "\n",
    "print(\"Original List of tuples :\", tuple_list)\n",
    "print(\"Sorted List of tuples :\", sorted_list)\n"
   ]
  },
  {
   "cell_type": "markdown",
   "id": "70019df4-5387-4458-94ee-7dfc1fa31bb3",
   "metadata": {},
   "source": [
    "### 39. Write a Python program to Sort lists in tuple \n",
    "Sample Output \n",
    "( [10, 50, 60], [80, 20, 30], [70, 100, 40], (90,) ) \n",
    "Tuple after sorting list : ( [10, 50, 60], [20, 30, 80], [40, 70, 100], [90] )"
   ]
  },
  {
   "cell_type": "code",
   "execution_count": null,
   "id": "23c0f6be-753c-4580-a088-e669cb0682b8",
   "metadata": {},
   "outputs": [],
   "source": [
    "## Ans = \n",
    "input_tuple = ([10, 50, 60], [80, 20, 30], [70, 100, 40], (90,))\n",
    "\n",
    "sorted_lists = []\n",
    "\n",
    "for item in input_tuple:\n",
    "    if isinstance(item, list):\n",
    "        item.sort()\n",
    "        sorted_lists.append(item)\n",
    "    else:\n",
    "        sorted_lists.append(list(item))  # Convert tuple to list\n",
    "\n",
    "sorted_tuple = tuple(sorted_lists)\n",
    "\n",
    "print(\"Tuple after sorting list :\", sorted_tuple)\n"
   ]
  },
  {
   "cell_type": "markdown",
   "id": "5172516a-597e-4d39-9604-942d7564696f",
   "metadata": {},
   "source": [
    "#### 40. Write a Python program to Order Tuples using external List \n",
    "Sample Output \n",
    "[ ('B', 68), ('D', 70), ('A', 67), ('C', 69) ] \n",
    "Ordered Tuple List : [ ('A', 67), ('B', 68), ('C', 69), ('D', 70) ]"
   ]
  },
  {
   "cell_type": "code",
   "execution_count": null,
   "id": "1f64b58d-a6d7-4b3a-aa0b-236f13648fc1",
   "metadata": {},
   "outputs": [],
   "source": [
    "def order_tuples(tuples_list, order):\n",
    "    # Sort the tuples based on the index of the first element in each tuple in the external order list\n",
    "    ordered_list = sorted(tuples_list, key=lambda x: order.index(x[0]))\n",
    "    return ordered_list\n",
    "\n",
    "# Sample input\n",
    "tuples_list = [('B', 68), ('D', 70), ('A', 67), ('C', 69)]\n",
    "order = ['A', 'B', 'C', 'D']  # External list defining the desired order\n",
    "\n",
    "# Call the function and print the result\n",
    "ordered_tuple_list = order_tuples(tuples_list, order)\n",
    "print(\"Original Tuple List:\", tuples_list)\n",
    "print(\"Ordered Tuple List:\", ordered_tuple_list)\n"
   ]
  },
  {
   "cell_type": "markdown",
   "id": "b11ed8da-c698-4788-a375-2b3067c071f8",
   "metadata": {},
   "source": [
    "## 41. Write a Python program to Filter Tuples by Kth element from List \n",
    "Sample Output \n",
    "[ ('B', 68), ('D', 70), ('A', 67), ('C', 69) ] \n",
    "List of kth elements to filter = [67 , 70 , 71, 75] \n",
    "Kth element index = 1 \n",
    "Filtered tuples : [('D', 70), ('A', 67)]"
   ]
  },
  {
   "cell_type": "markdown",
   "id": "126287ce-e58b-46bb-99e3-2f0a979159f0",
   "metadata": {},
   "source": [
    "### 42. Write a Python program to Closest Pair to Kth index element in Tuple \n",
    "Sample Output \n",
    "[ (23, 18), (9, 2), (2, 3), (9, 18), (23, 2) ] \n",
    "Given Tuple = (20, 2) \n",
    "Kth Element Index = 1 \n",
    "Nearest Tuple : (23, 18)"
   ]
  },
  {
   "cell_type": "markdown",
   "id": "e94159d6-3528-485f-ad65-568da818420c",
   "metadata": {},
   "source": [
    "### 43. Write a Python program to Tuple List intersection (Order irrespective) \n",
    "Sample Output \n",
    "List 1 : [ (3, 4), (5, 6), (9, 10), (4, 5) ] \n",
    "List 2 : [ (5, 4), (3, 4), (6, 5), (9, 11) ] \n",
    " \n",
    "Intersection : { (4, 5), (5, 6), (3, 4) }"
   ]
  },
  {
   "cell_type": "code",
   "execution_count": null,
   "id": "8474a778-f9fc-4d65-b3f5-98d97fce5ad4",
   "metadata": {},
   "outputs": [],
   "source": [
    "## Ans -\n",
    "list1 = [(3, 4), (5, 6), (9, 10), (4, 5)]\n",
    "list2 = [(5, 4), (3, 4), (6, 5), (9, 11)]"
   ]
  },
  {
   "cell_type": "code",
   "execution_count": null,
   "id": "7c25534a-2142-4021-8b6f-00c1103572d6",
   "metadata": {},
   "outputs": [],
   "source": [
    "def tuple_list_intersection(list1, list2):\n",
    "        intersection = set(list1) & set(list2)\n",
    "        return intersection\n",
    "result = tuple_list_intersection(list1, list2)"
   ]
  },
  {
   "cell_type": "code",
   "execution_count": null,
   "id": "601a2bfb-47ae-46f6-9bfa-75190f68f1b5",
   "metadata": {},
   "outputs": [],
   "source": [
    "print(\"Intersection:\", result)"
   ]
  },
  {
   "cell_type": "markdown",
   "id": "20256f4e-9824-45fb-9d1e-79de83991b04",
   "metadata": {},
   "source": [
    "### 44. Write a Python program to Intersection in Tuple Records Data \n",
    "Sample Output \n",
    "list 1 : [ ('A', 65), ('D', 68), ('B', 66) ] \n",
    "list 2 : [ ('D', 68), ('C', 67), ('A', 65) ] \n",
    "Intersection of data records : [ ('A', 65), ('D', 68) ]"
   ]
  },
  {
   "cell_type": "code",
   "execution_count": null,
   "id": "135be966-35f0-4591-bb76-e72163b325ec",
   "metadata": {},
   "outputs": [],
   "source": [
    "## Ans -\n",
    "list1 = [('A', 65), ('D', 68), ('B', 66)]\n",
    "list2 = [('D', 68), ('C', 67), ('A', 65)]"
   ]
  },
  {
   "cell_type": "code",
   "execution_count": null,
   "id": "840b52c1-6f87-4e00-bff3-3e28842e920e",
   "metadata": {},
   "outputs": [],
   "source": [
    "def intersection_of_tuple_records(list1, list2):\n",
    "    intersection = [record for record in list1 if record in list2]\n",
    "    return intersection\n",
    "\n",
    "result = intersection_of_tuple_records(list1, list2)\n",
    "\n",
    "print(\"Intersection of data records:\", result)\n"
   ]
  },
  {
   "cell_type": "markdown",
   "id": "2ef55dcb-6996-4f7f-b3b0-8631942c2201",
   "metadata": {},
   "source": [
    "## 45. Write a Python program to Unique Tuple Frequency (Order Irrespective) \n",
    "Sample Output \n",
    "[ (3, 4), (1, 2), (4, 3), (5, 6) ] \n",
    "Unique tuples Frequency : [(1, 2), (3, 4), (5, 6)] \n",
    "Unique tuples Frequency Count : 3"
   ]
  },
  {
   "cell_type": "code",
   "execution_count": null,
   "id": "5bfe662a-7036-4822-86a7-32bb3b85c4f8",
   "metadata": {},
   "outputs": [],
   "source": [
    "## Ans -\n",
    "def unique_tuple_frequency(tuples_list):\n",
    "    # Use a set to store unique tuples in sorted order\n",
    "    unique_tuples = {tuple(sorted(t)) for t in tuples_list}\n",
    "    \n",
    "    # Convert the set back to a list to maintain a consistent output format\n",
    "    unique_tuples_list = list(unique_tuples)\n",
    "    \n",
    "    # Count of unique tuples\n",
    "    unique_count = len(unique_tuples_list)\n",
    "    \n",
    "    return unique_tuples_list, unique_count\n",
    "\n",
    "# Sample input\n",
    "tuples_list = [(3, 4), (1, 2), (4, 3), (5, 6)]\n",
    "\n",
    "# Get unique tuples and their count\n",
    "unique_tuples_list, unique_count = unique_tuple_frequency(tuples_list)\n",
    "\n",
    "print(\"Unique tuples Frequency:\", unique_tuples_list)\n",
    "print(\"Unique tuples Frequency Count:\", unique_count)\n"
   ]
  },
  {
   "cell_type": "markdown",
   "id": "3baa1b12-10a1-4fcf-b7ac-49dc930278f9",
   "metadata": {},
   "source": [
    "### 46. Write a Python program to Skew Nested Tuple Summation \n",
    "Sample Output \n",
    "(1, (2, (3, (4, (5, None))))) \n",
    "Summation of 1st positions : 15"
   ]
  },
  {
   "cell_type": "code",
   "execution_count": null,
   "id": "db44dea7-29cf-4f0c-b6fa-6e251c9ae6e3",
   "metadata": {},
   "outputs": [],
   "source": [
    "# Ans - \n",
    "def skew_nested_tuple_summation(nested_tuple):\n",
    "    if nested_tuple is None:\n",
    "        return 0\n",
    "    first_element_sum = nested_tuple[0] if isinstance(nested_tuple[0], int) else 0\n",
    "    return first_element_sum + skew_nested_tuple_summation(nested_tuple[1])\n",
    "\n",
    "nested_tuple = (1, (2, (3, (4, (5, None)))))\n",
    "\n",
    "result = skew_nested_tuple_summation(nested_tuple)\n",
    "\n",
    "print(\"Summation of 1st positions:\", result)\n"
   ]
  },
  {
   "cell_type": "markdown",
   "id": "33faf84d-0c8a-4221-b185-3bcdbf1c9a60",
   "metadata": {},
   "source": [
    "## 47. Write a Python program to Convert Binary tuple to Integer \n",
    "Sample Output \n",
    "(1, 0, 1, 0) \n",
    "Decimal number is : 10"
   ]
  },
  {
   "cell_type": "code",
   "execution_count": null,
   "id": "9427947e-b10a-49fc-97df-da1c08686979",
   "metadata": {},
   "outputs": [],
   "source": [
    "# ANs \n",
    "def binary_tuple_to_integer(binary_tuple):\n",
    "    decimal_number = int(''.join(map(str, binary_tuple)), 2)\n",
    "    return decimal_number\n",
    "\n",
    "binary_tuple = (1, 0, 1, 0)\n",
    "\n",
    "result = binary_tuple_to_integer(binary_tuple)\n",
    "\n",
    "print(\"Decimal number is:\", result)\n"
   ]
  },
  {
   "cell_type": "markdown",
   "id": "1468f9e7-b20b-4d33-a090-bc2e54a16163",
   "metadata": {},
   "source": [
    "### 48. Write a Python program to Tuple XOR operation \n",
    "Sample Output \n",
    "Tuple 1 : (10, 4, 6, 9) \n",
    "Tuple 2 : (5, 2, 3, 3) \n",
    "XOR tuple : (15, 6, 5, 10) "
   ]
  },
  {
   "cell_type": "code",
   "execution_count": null,
   "id": "02560f68-a54a-436f-94b8-3d90ce5625b4",
   "metadata": {},
   "outputs": [],
   "source": [
    "## Ans - \n",
    "tuple1 = (10, 4, 6, 9)\n",
    "tuple2 = (5, 2, 3, 3)\n",
    "\n",
    "def tuple_xor(tuple1, tuple2):\n",
    "    xor_tuple = tuple(a ^ b for a, b in zip(tuple1, tuple2))\n",
    "    return xor_tuple\n",
    "\n",
    "result = tuple_xor(tuple1, tuple2)\n",
    "\n",
    "print(\"Tuple 1:\", tuple1)\n",
    "print(\"Tuple 2:\", tuple2)\n",
    "print(\"XOR tuple:\", result)\n"
   ]
  },
  {
   "cell_type": "markdown",
   "id": "baeb0f64-1973-45d8-a9a4-2bd0933aef13",
   "metadata": {},
   "source": [
    "## 49. Write a Python program to AND operation between Tuples \n",
    "Sample Output \n",
    "Tuple 1 : (10, 4, 6, 9) \n",
    "Tuple 2 : (5, 2, 3, 3) \n",
    "AND operation Between Tuple : (0, 0, 2, 1)"
   ]
  },
  {
   "cell_type": "code",
   "execution_count": null,
   "id": "4d07c349-dcdb-4bbe-8f92-4ab94c02f9d2",
   "metadata": {},
   "outputs": [],
   "source": [
    "## ANs -\n",
    "def tuple_and(tuple1, tuple2):\n",
    "    and_tuple = tuple(a & b for a, b in zip(tuple1, tuple2))\n",
    "    return and_tuple\n",
    "\n",
    "tuple1 = (10, 4, 6, 9)\n",
    "tuple2 = (5, 2, 3, 3)\n",
    "\n",
    "result = tuple_and(tuple1, tuple2)\n",
    "\n",
    "# Print the results\n",
    "print(\"Tuple 1:\", tuple1)\n",
    "print(\"Tuple 2:\", tuple2)\n",
    "print(\"AND operation Between Tuple:\", result)\n"
   ]
  },
  {
   "cell_type": "markdown",
   "id": "393511c0-d36d-4442-9fa1-832fab44b6f7",
   "metadata": {},
   "source": [
    "## 50. Write a Python program to Elementwise AND in tuples \n",
    "Sample Output \n",
    "Tuple 1 : (10, 4, 6, 9) \n",
    "Tuple 2 : (5, 2, 3, 3) \n",
    "Elementwise AND Tuple : (0, 0, 2, 1)"
   ]
  },
  {
   "cell_type": "code",
   "execution_count": null,
   "id": "d4272bc0-1c7e-43d6-a674-1907806e49a7",
   "metadata": {},
   "outputs": [],
   "source": [
    "## Ans - \n",
    "tuple1 = (10, 4, 6, 9)\n",
    "tuple2 = (5, 2, 3, 3)\n",
    "\n",
    "def elementwise_and(tuple1, tuple2):\n",
    "    and_tuple = tuple(map(lambda x, y: x & y, tuple1, tuple2))\n",
    "    return and_tuple\n",
    "\n",
    "result = elementwise_and(tuple1, tuple2)\n",
    "\n",
    "print(\"Tuple 1:\", tuple1)\n",
    "print(\"Tuple 2:\", tuple2)\n",
    "print(\"Elementwise AND Tuple:\", result)\n"
   ]
  },
  {
   "cell_type": "code",
   "execution_count": null,
   "id": "9c0f0aa6-5c72-4332-920a-9e087f32c8af",
   "metadata": {},
   "outputs": [],
   "source": []
  },
  {
   "cell_type": "code",
   "execution_count": null,
   "id": "f87c50c4-5168-4822-b385-7d95d0ff6485",
   "metadata": {},
   "outputs": [],
   "source": []
  },
  {
   "cell_type": "code",
   "execution_count": null,
   "id": "0bcabe55-d655-47c2-8594-32af77de0a07",
   "metadata": {},
   "outputs": [],
   "source": []
  },
  {
   "cell_type": "code",
   "execution_count": null,
   "id": "e80fb660-c585-4bc9-94d0-ac5d648c7d67",
   "metadata": {},
   "outputs": [],
   "source": []
  },
  {
   "cell_type": "code",
   "execution_count": null,
   "id": "495873f8-b980-44e1-8c75-cf4446a0a417",
   "metadata": {},
   "outputs": [],
   "source": []
  },
  {
   "cell_type": "code",
   "execution_count": null,
   "id": "ec5d4577-6f73-4df0-9bc4-4681c109ae5a",
   "metadata": {},
   "outputs": [],
   "source": []
  },
  {
   "cell_type": "code",
   "execution_count": null,
   "id": "e557a0c7-d410-4df9-aed9-a076b0172f84",
   "metadata": {},
   "outputs": [],
   "source": []
  },
  {
   "cell_type": "code",
   "execution_count": null,
   "id": "d11c40bf-b2ac-4e51-8ee5-5589e5d0bc2e",
   "metadata": {},
   "outputs": [],
   "source": []
  },
  {
   "cell_type": "code",
   "execution_count": null,
   "id": "229ef3a6-6d70-484c-91e0-e2ac85edb9fb",
   "metadata": {},
   "outputs": [],
   "source": []
  }
 ],
 "metadata": {
  "kernelspec": {
   "display_name": "Python 3 (ipykernel)",
   "language": "python",
   "name": "python3"
  },
  "language_info": {
   "codemirror_mode": {
    "name": "ipython",
    "version": 3
   },
   "file_extension": ".py",
   "mimetype": "text/x-python",
   "name": "python",
   "nbconvert_exporter": "python",
   "pygments_lexer": "ipython3",
   "version": "3.11.7"
  }
 },
 "nbformat": 4,
 "nbformat_minor": 5
}
